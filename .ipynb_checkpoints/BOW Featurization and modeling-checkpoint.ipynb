{
 "cells": [
  {
   "cell_type": "markdown",
   "metadata": {},
   "source": [
    "# BOW Featurization and modeling"
   ]
  },
  {
   "cell_type": "code",
   "execution_count": 13,
   "metadata": {},
   "outputs": [],
   "source": [
    "import pandas as pd\n",
    "import numpy as np\n",
    "import re\n",
    "from tqdm import tqdm\n",
    "import warnings\n",
    "from sklearn.feature_extraction.text import CountVectorizer\n",
    "from sklearn.metrics import accuracy_score, confusion_matrix, classification_report\n",
    "from sklearn.naive_bayes import MultinomialNB\n",
    "from sklearn.svm import SVC\n",
    "from sklearn.linear_model import LogisticRegression\n",
    "from sklearn.tree import DecisionTreeClassifier\n",
    "from sklearn.ensemble import RandomForestClassifier\n",
    "from sklearn.neighbors import KNeighborsClassifier\n",
    "from joblib import dump\n",
    "from sklearn.model_selection import train_test_split\n",
    "warnings.filterwarnings(\"ignore\")"
   ]
  },
  {
   "cell_type": "code",
   "execution_count": 2,
   "metadata": {},
   "outputs": [],
   "source": [
    "data = pd.read_csv(\"AFFR_preprocessed_100k.csv\")"
   ]
  },
  {
   "cell_type": "code",
   "execution_count": 3,
   "metadata": {},
   "outputs": [
    {
     "data": {
      "text/html": [
       "<div>\n",
       "<style scoped>\n",
       "    .dataframe tbody tr th:only-of-type {\n",
       "        vertical-align: middle;\n",
       "    }\n",
       "\n",
       "    .dataframe tbody tr th {\n",
       "        vertical-align: top;\n",
       "    }\n",
       "\n",
       "    .dataframe thead th {\n",
       "        text-align: right;\n",
       "    }\n",
       "</style>\n",
       "<table border=\"1\" class=\"dataframe\">\n",
       "  <thead>\n",
       "    <tr style=\"text-align: right;\">\n",
       "      <th></th>\n",
       "      <th>Reviews</th>\n",
       "      <th>rating</th>\n",
       "    </tr>\n",
       "  </thead>\n",
       "  <tbody>\n",
       "    <tr>\n",
       "      <th>99997</th>\n",
       "      <td>celestial chia tea celestial chia tea tea real...</td>\n",
       "      <td>1</td>\n",
       "    </tr>\n",
       "    <tr>\n",
       "      <th>99998</th>\n",
       "      <td>miracle fruit tablets miracle fruit tablets se...</td>\n",
       "      <td>1</td>\n",
       "    </tr>\n",
       "    <tr>\n",
       "      <th>99999</th>\n",
       "      <td>not taste like lipton yellow label tea sold it...</td>\n",
       "      <td>0</td>\n",
       "    </tr>\n",
       "  </tbody>\n",
       "</table>\n",
       "</div>"
      ],
      "text/plain": [
       "                                                 Reviews  rating\n",
       "99997  celestial chia tea celestial chia tea tea real...       1\n",
       "99998  miracle fruit tablets miracle fruit tablets se...       1\n",
       "99999  not taste like lipton yellow label tea sold it...       0"
      ]
     },
     "execution_count": 3,
     "metadata": {},
     "output_type": "execute_result"
    }
   ],
   "source": [
    "data.tail(3)"
   ]
  },
  {
   "cell_type": "code",
   "execution_count": 4,
   "metadata": {},
   "outputs": [],
   "source": [
    "def text_splitter(text):\n",
    "    return text.split()\n",
    "# max_features = 20000 means we want only most useful(most occured) 20000 features not all \n",
    "vectorizer = CountVectorizer(tokenizer = text_splitter,ngram_range=(1, 3),max_features=20000,min_df=5, max_df=0.7)\n",
    "review_vector = vectorizer.fit_transform(data['Reviews'].values.astype(str))"
   ]
  },
  {
   "cell_type": "code",
   "execution_count": 14,
   "metadata": {},
   "outputs": [
    {
     "data": {
      "text/plain": [
       "['AFFR_vectorizer.pkl']"
      ]
     },
     "execution_count": 14,
     "metadata": {},
     "output_type": "execute_result"
    }
   ],
   "source": [
    "dump(vectorizer,\"AFFR_vectorizer.pkl\")"
   ]
  },
  {
   "cell_type": "code",
   "execution_count": 5,
   "metadata": {},
   "outputs": [
    {
     "data": {
      "text/plain": [
       "(100000, 20000)"
      ]
     },
     "execution_count": 5,
     "metadata": {},
     "output_type": "execute_result"
    }
   ],
   "source": [
    "review_vector.shape"
   ]
  },
  {
   "cell_type": "code",
   "execution_count": 6,
   "metadata": {},
   "outputs": [],
   "source": [
    "# Getting labels seperate \n",
    "y_label = data[\"rating\"]"
   ]
  },
  {
   "cell_type": "code",
   "execution_count": 7,
   "metadata": {},
   "outputs": [],
   "source": [
    "x_train, x_test, y_train, y_test = train_test_split(review_vector, y_label, test_size = 0.20)"
   ]
  },
  {
   "cell_type": "markdown",
   "metadata": {},
   "source": [
    "### SVM Classifier with RBF kernel "
   ]
  },
  {
   "cell_type": "code",
   "execution_count": 18,
   "metadata": {},
   "outputs": [
    {
     "name": "stdout",
     "output_type": "stream",
     "text": [
      "[LibSVM]Confusion matrix:  [[   54  3120]\n",
      " [    2 16824]]\n",
      "Classification report: \n",
      "               precision    recall  f1-score   support\n",
      "\n",
      "           0       0.96      0.02      0.03      3174\n",
      "           1       0.84      1.00      0.92     16826\n",
      "\n",
      "    accuracy                           0.84     20000\n",
      "   macro avg       0.90      0.51      0.47     20000\n",
      "weighted avg       0.86      0.84      0.78     20000\n",
      "\n",
      "Accuracy score is:  0.8439\n",
      "Model Saving ...\n",
      "Wall time: 1h 18min 11s\n"
     ]
    },
    {
     "data": {
      "text/plain": [
       "['AFFR_SVM_model.pkl']"
      ]
     },
     "execution_count": 18,
     "metadata": {},
     "output_type": "execute_result"
    }
   ],
   "source": [
    "%%time\n",
    "svmclassifier = SVC(kernel='rbf',verbose=True,gamma=\"auto\")\n",
    "svmclassifier.fit(x_train, y_train)\n",
    "y_pred = svmclassifier.predict(x_test)\n",
    "print(\"Confusion matrix: \\n\",confusion_matrix(y_test,y_pred))\n",
    "print(\"Classification report: \\n\",classification_report(y_test,y_pred))\n",
    "print(\"Accuracy score is: \",accuracy_score(y_test,y_pred))\n",
    "print(\"Model Saving ...\")\n",
    "dump(svmclassifier,\"AFFR_SVM_model.pkl\")"
   ]
  },
  {
   "cell_type": "markdown",
   "metadata": {},
   "source": [
    "### Naive Bayes "
   ]
  },
  {
   "cell_type": "code",
   "execution_count": 11,
   "metadata": {},
   "outputs": [
    {
     "name": "stdout",
     "output_type": "stream",
     "text": [
      "Confusion matrix: \n",
      " [[ 2808   370]\n",
      " [ 1041 15781]]\n",
      "Classification report: \n",
      "               precision    recall  f1-score   support\n",
      "\n",
      "           0       0.73      0.88      0.80      3178\n",
      "           1       0.98      0.94      0.96     16822\n",
      "\n",
      "    accuracy                           0.93     20000\n",
      "   macro avg       0.85      0.91      0.88     20000\n",
      "weighted avg       0.94      0.93      0.93     20000\n",
      "\n",
      "Accuracy score is:  0.92945\n",
      "Model Saving ...\n",
      "Wall time: 187 ms\n"
     ]
    },
    {
     "data": {
      "text/plain": [
       "['AFFR_NB_model.pkl']"
      ]
     },
     "execution_count": 11,
     "metadata": {},
     "output_type": "execute_result"
    }
   ],
   "source": [
    "%%time\n",
    "# Here Gaussian Naive Bayes does not taking Sparse matrix it requires dense \n",
    "NB_classifier = MultinomialNB()\n",
    "NB_classifier.fit(x_train, y_train)\n",
    "y_pred = NB_classifier.predict(x_test)\n",
    "print(\"Confusion matrix: \\n\",confusion_matrix(y_test,y_pred))\n",
    "print(\"Classification report: \\n\",classification_report(y_test,y_pred))\n",
    "print(\"Accuracy score is: \",accuracy_score(y_test,y_pred))\n",
    "print(\"Model Saving ...\")\n",
    "dump(NB_classifier,\"AFFR_NB_model.pkl\")"
   ]
  },
  {
   "cell_type": "code",
   "execution_count": 27,
   "metadata": {},
   "outputs": [
    {
     "name": "stdout",
     "output_type": "stream",
     "text": [
      "Confusion matrix: \n",
      " [[ 2579   599]\n",
      " [  412 16410]]\n",
      "Classification report: \n",
      "               precision    recall  f1-score   support\n",
      "\n",
      "           0       0.86      0.81      0.84      3178\n",
      "           1       0.96      0.98      0.97     16822\n",
      "\n",
      "    accuracy                           0.95     20000\n",
      "   macro avg       0.91      0.89      0.90     20000\n",
      "weighted avg       0.95      0.95      0.95     20000\n",
      "\n",
      "Accuracy score is:  0.94945\n",
      "Model Saving ...\n",
      "Wall time: 8.22 s\n",
      "Parser   : 169 ms\n"
     ]
    },
    {
     "data": {
      "text/plain": [
       "['AFFR_LR_model.pkl']"
      ]
     },
     "execution_count": 27,
     "metadata": {},
     "output_type": "execute_result"
    }
   ],
   "source": [
    "%%time\n",
    "LR_classifier = LogisticRegression(n_jobs=-1)\n",
    "LR_classifier.fit(x_train, y_train)\n",
    "y_pred = LR_classifier.predict(x_test)\n",
    "print(\"Confusion matrix: \\n\",confusion_matrix(y_test,y_pred))\n",
    "print(\"Classification report: \\n\",classification_report(y_test,y_pred))\n",
    "print(\"Accuracy score is: \",accuracy_score(y_test,y_pred))\n",
    "print(\"Model Saving ...\")\n",
    "dump(LR_classifier,\"AFFR_LR_model.pkl\")"
   ]
  },
  {
   "cell_type": "code",
   "execution_count": 26,
   "metadata": {},
   "outputs": [
    {
     "name": "stdout",
     "output_type": "stream",
     "text": [
      "Confusion matrix: \n",
      " [[ 1224  1954]\n",
      " [  647 16175]]\n",
      "Classification report: \n",
      "               precision    recall  f1-score   support\n",
      "\n",
      "           0       0.65      0.39      0.48      3178\n",
      "           1       0.89      0.96      0.93     16822\n",
      "\n",
      "    accuracy                           0.87     20000\n",
      "   macro avg       0.77      0.67      0.71     20000\n",
      "weighted avg       0.85      0.87      0.86     20000\n",
      "\n",
      "Accuracy score is:  0.86995\n",
      "Model Saving ...\n",
      "Wall time: 2min 27s\n"
     ]
    },
    {
     "data": {
      "text/plain": [
       "['AFFR_KNN_model.pkl']"
      ]
     },
     "execution_count": 26,
     "metadata": {},
     "output_type": "execute_result"
    }
   ],
   "source": [
    "%%time\n",
    "KNN_classifier = KNeighborsClassifier(n_jobs=-1)\n",
    "KNN_classifier.fit(x_train, y_train)\n",
    "y_pred = KNN_classifier.predict(x_test)\n",
    "print(\"Confusion matrix: \\n\",confusion_matrix(y_test,y_pred))\n",
    "print(\"Classification report: \\n\",classification_report(y_test,y_pred))\n",
    "print(\"Accuracy score is: \",accuracy_score(y_test,y_pred))\n",
    "print(\"Model Saving ...\")\n",
    "dump(KNN_classifier,\"AFFR_KNN_model.pkl\")"
   ]
  },
  {
   "cell_type": "code",
   "execution_count": 18,
   "metadata": {},
   "outputs": [
    {
     "name": "stdout",
     "output_type": "stream",
     "text": [
      "Confusion matrix: \n",
      " [[ 1632  1546]\n",
      " [  119 16703]]\n",
      "Classification report: \n",
      "               precision    recall  f1-score   support\n",
      "\n",
      "           0       0.93      0.51      0.66      3178\n",
      "           1       0.92      0.99      0.95     16822\n",
      "\n",
      "    accuracy                           0.92     20000\n",
      "   macro avg       0.92      0.75      0.81     20000\n",
      "weighted avg       0.92      0.92      0.91     20000\n",
      "\n",
      "Accuracy score is:  0.91675\n",
      "Model Saving ...\n",
      "Wall time: 1min 40s\n"
     ]
    },
    {
     "data": {
      "text/plain": [
       "['AFFR_RF_model.pkl']"
      ]
     },
     "execution_count": 18,
     "metadata": {},
     "output_type": "execute_result"
    }
   ],
   "source": [
    "%%time\n",
    "RF_classifier = RandomForestClassifier(n_jobs=-1)\n",
    "RF_classifier.fit(x_train, y_train)\n",
    "y_pred = RF_classifier.predict(x_test)\n",
    "print(\"Confusion matrix: \\n\",confusion_matrix(y_test,y_pred))\n",
    "print(\"Classification report: \\n\",classification_report(y_test,y_pred))\n",
    "print(\"Accuracy score is: \",accuracy_score(y_test,y_pred))\n",
    "print(\"Model Saving ...\")\n",
    "dump(RF_classifier,\"AFFR_RF_model.pkl\")"
   ]
  },
  {
   "cell_type": "code",
   "execution_count": 17,
   "metadata": {},
   "outputs": [
    {
     "name": "stdout",
     "output_type": "stream",
     "text": [
      "Confusion matrix: \n",
      " [[ 1930  1248]\n",
      " [ 1115 15707]]\n",
      "Classification report: \n",
      "               precision    recall  f1-score   support\n",
      "\n",
      "           0       0.63      0.61      0.62      3178\n",
      "           1       0.93      0.93      0.93     16822\n",
      "\n",
      "    accuracy                           0.88     20000\n",
      "   macro avg       0.78      0.77      0.78     20000\n",
      "weighted avg       0.88      0.88      0.88     20000\n",
      "\n",
      "Accuracy score is:  0.88185\n",
      "Model Saving ...\n",
      "Wall time: 1min 16s\n"
     ]
    },
    {
     "data": {
      "text/plain": [
       "['AFFR_DT_model.pkl']"
      ]
     },
     "execution_count": 17,
     "metadata": {},
     "output_type": "execute_result"
    }
   ],
   "source": [
    "%%time\n",
    "DT_classifier = DecisionTreeClassifier()\n",
    "DT_classifier.fit(x_train, y_train)\n",
    "y_pred = DT_classifier.predict(x_test)\n",
    "print(\"Confusion matrix: \\n\",confusion_matrix(y_test,y_pred))\n",
    "print(\"Classification report: \\n\",classification_report(y_test,y_pred))\n",
    "print(\"Accuracy score is: \",accuracy_score(y_test,y_pred))\n",
    "print(\"Model Saving ...\")\n",
    "dump(DT_classifier,\"AFFR_DT_model.pkl\")"
   ]
  },
  {
   "cell_type": "code",
   "execution_count": null,
   "metadata": {},
   "outputs": [],
   "source": []
  }
 ],
 "metadata": {
  "kernelspec": {
   "display_name": "Python 3",
   "language": "python",
   "name": "python3"
  },
  "language_info": {
   "codemirror_mode": {
    "name": "ipython",
    "version": 3
   },
   "file_extension": ".py",
   "mimetype": "text/x-python",
   "name": "python",
   "nbconvert_exporter": "python",
   "pygments_lexer": "ipython3",
   "version": "3.8.5"
  }
 },
 "nbformat": 4,
 "nbformat_minor": 4
}
