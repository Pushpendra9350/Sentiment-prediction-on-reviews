{
 "cells": [
  {
   "cell_type": "code",
   "execution_count": 2,
   "metadata": {},
   "outputs": [],
   "source": [
    "import pandas as pd\n",
    "import numpy as np\n",
    "import matplotlib.pyplot as plt\n",
    "import seaborn as sb"
   ]
  },
  {
   "cell_type": "code",
   "execution_count": 7,
   "metadata": {},
   "outputs": [],
   "source": [
    "bow_results = pd.DataFrame({\"Models\":[\"SVM\",\"Naive Bayes\",\"logistic regression\",\"KNN\",\"Random Forest\",\"Decison Tree\"],\n",
    "                            \"Accuracy\":[0.84,0.92,0.94,0.86,0.91,0.88],\n",
    "                           \"F1-score\":[0.78,0.93,0.95,0.86,0.91,0.88]})\n",
    "\n",
    "tfidf_results = pd.DataFrame({\"Models\":[\"SVM\",\"Naive Bayes\",\"logistic regression\",\"KNN\",\"Random Forest\",\"Decison Tree\"],\n",
    "                            \"Accuracy\":[0.84,0.92,0.94,0.84,0.91,0.87],\n",
    "                           \"F1-score\":[0.77,0.92,0.94,0.78,0.91,0.88]})\n",
    "\n",
    "word2vec_results = pd.DataFrame({\"Models\":[\"SVM\",\"Naive Bayes\",\"logistic regression\",\"KNN\",\"Random Forest\",\"Decison Tree\"],\n",
    "                            \"Accuracy\":[0.93,0.92,0.94,0.86,0.91,0.88],\n",
    "                           \"F1-score\":[0.93,0.93,0.95,0.86,0.91,0.88]})"
   ]
  },
  {
   "cell_type": "code",
   "execution_count": 8,
   "metadata": {},
   "outputs": [
    {
     "data": {
      "text/html": [
       "<div>\n",
       "<style scoped>\n",
       "    .dataframe tbody tr th:only-of-type {\n",
       "        vertical-align: middle;\n",
       "    }\n",
       "\n",
       "    .dataframe tbody tr th {\n",
       "        vertical-align: top;\n",
       "    }\n",
       "\n",
       "    .dataframe thead th {\n",
       "        text-align: right;\n",
       "    }\n",
       "</style>\n",
       "<table border=\"1\" class=\"dataframe\">\n",
       "  <thead>\n",
       "    <tr style=\"text-align: right;\">\n",
       "      <th></th>\n",
       "      <th>Models</th>\n",
       "      <th>Accuracy</th>\n",
       "      <th>F1-score</th>\n",
       "    </tr>\n",
       "  </thead>\n",
       "  <tbody>\n",
       "    <tr>\n",
       "      <th>0</th>\n",
       "      <td>SVM</td>\n",
       "      <td>0.84</td>\n",
       "      <td>0.78</td>\n",
       "    </tr>\n",
       "    <tr>\n",
       "      <th>1</th>\n",
       "      <td>Naive Bayes</td>\n",
       "      <td>0.92</td>\n",
       "      <td>0.93</td>\n",
       "    </tr>\n",
       "    <tr>\n",
       "      <th>2</th>\n",
       "      <td>logistic regression</td>\n",
       "      <td>0.94</td>\n",
       "      <td>0.95</td>\n",
       "    </tr>\n",
       "    <tr>\n",
       "      <th>3</th>\n",
       "      <td>KNN</td>\n",
       "      <td>0.86</td>\n",
       "      <td>0.86</td>\n",
       "    </tr>\n",
       "    <tr>\n",
       "      <th>4</th>\n",
       "      <td>Random Forest</td>\n",
       "      <td>0.91</td>\n",
       "      <td>0.91</td>\n",
       "    </tr>\n",
       "    <tr>\n",
       "      <th>5</th>\n",
       "      <td>Decison Tree</td>\n",
       "      <td>0.88</td>\n",
       "      <td>0.88</td>\n",
       "    </tr>\n",
       "  </tbody>\n",
       "</table>\n",
       "</div>"
      ],
      "text/plain": [
       "                Models  Accuracy  F1-score\n",
       "0                  SVM      0.84      0.78\n",
       "1          Naive Bayes      0.92      0.93\n",
       "2  logistic regression      0.94      0.95\n",
       "3                  KNN      0.86      0.86\n",
       "4        Random Forest      0.91      0.91\n",
       "5         Decison Tree      0.88      0.88"
      ]
     },
     "execution_count": 8,
     "metadata": {},
     "output_type": "execute_result"
    }
   ],
   "source": [
    "bow_results"
   ]
  },
  {
   "cell_type": "code",
   "execution_count": null,
   "metadata": {},
   "outputs": [],
   "source": []
  }
 ],
 "metadata": {
  "kernelspec": {
   "display_name": "Python 3",
   "language": "python",
   "name": "python3"
  },
  "language_info": {
   "codemirror_mode": {
    "name": "ipython",
    "version": 3
   },
   "file_extension": ".py",
   "mimetype": "text/x-python",
   "name": "python",
   "nbconvert_exporter": "python",
   "pygments_lexer": "ipython3",
   "version": "3.8.5"
  }
 },
 "nbformat": 4,
 "nbformat_minor": 4
}
