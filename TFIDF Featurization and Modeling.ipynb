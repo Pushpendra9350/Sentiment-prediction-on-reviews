{
 "cells": [
  {
   "cell_type": "markdown",
   "metadata": {},
   "source": [
    "# TFIDF Featurization and Modeling"
   ]
  },
  {
   "cell_type": "code",
   "execution_count": 2,
   "metadata": {},
   "outputs": [],
   "source": [
    "import pandas as pd\n",
    "import numpy as np\n",
    "import re\n",
    "from tqdm import tqdm\n",
    "import warnings\n",
    "from sklearn.feature_extraction.text import TfidfVectorizer\n",
    "from sklearn.metrics import accuracy_score, confusion_matrix, classification_report\n",
    "from sklearn.naive_bayes import MultinomialNB\n",
    "from sklearn.svm import SVC\n",
    "from sklearn.linear_model import LogisticRegression\n",
    "from sklearn.tree import DecisionTreeClassifier\n",
    "from sklearn.ensemble import RandomForestClassifier\n",
    "from sklearn.neighbors import KNeighborsClassifier\n",
    "from joblib import dump\n",
    "from sklearn.model_selection import train_test_split\n",
    "warnings.filterwarnings(\"ignore\")"
   ]
  },
  {
   "cell_type": "code",
   "execution_count": 3,
   "metadata": {},
   "outputs": [],
   "source": [
    "data = pd.read_csv(\"AFFR_preprocessed_100k.csv\")"
   ]
  },
  {
   "cell_type": "code",
   "execution_count": 4,
   "metadata": {},
   "outputs": [
    {
     "data": {
      "text/html": [
       "<div>\n",
       "<style scoped>\n",
       "    .dataframe tbody tr th:only-of-type {\n",
       "        vertical-align: middle;\n",
       "    }\n",
       "\n",
       "    .dataframe tbody tr th {\n",
       "        vertical-align: top;\n",
       "    }\n",
       "\n",
       "    .dataframe thead th {\n",
       "        text-align: right;\n",
       "    }\n",
       "</style>\n",
       "<table border=\"1\" class=\"dataframe\">\n",
       "  <thead>\n",
       "    <tr style=\"text-align: right;\">\n",
       "      <th></th>\n",
       "      <th>Reviews</th>\n",
       "      <th>rating</th>\n",
       "    </tr>\n",
       "  </thead>\n",
       "  <tbody>\n",
       "    <tr>\n",
       "      <th>99997</th>\n",
       "      <td>celestial chia tea celestial chia tea tea real...</td>\n",
       "      <td>1</td>\n",
       "    </tr>\n",
       "    <tr>\n",
       "      <th>99998</th>\n",
       "      <td>miracle fruit tablets miracle fruit tablets se...</td>\n",
       "      <td>1</td>\n",
       "    </tr>\n",
       "    <tr>\n",
       "      <th>99999</th>\n",
       "      <td>not taste like lipton yellow label tea sold it...</td>\n",
       "      <td>0</td>\n",
       "    </tr>\n",
       "  </tbody>\n",
       "</table>\n",
       "</div>"
      ],
      "text/plain": [
       "                                                 Reviews  rating\n",
       "99997  celestial chia tea celestial chia tea tea real...       1\n",
       "99998  miracle fruit tablets miracle fruit tablets se...       1\n",
       "99999  not taste like lipton yellow label tea sold it...       0"
      ]
     },
     "execution_count": 4,
     "metadata": {},
     "output_type": "execute_result"
    }
   ],
   "source": [
    "data.tail(3)"
   ]
  },
  {
   "cell_type": "code",
   "execution_count": 5,
   "metadata": {},
   "outputs": [],
   "source": [
    "def text_splitter(text):\n",
    "    return text.split()\n",
    "# max_features = 20000 means we want only most useful(most occured) 20000 features not all \n",
    "vectorizer = TfidfVectorizer(tokenizer = text_splitter,ngram_range=(1, 3),max_features=20000,min_df=5, max_df=0.7)\n",
    "review_vector = vectorizer.fit_transform(data['Reviews'].values.astype(str))"
   ]
  },
  {
   "cell_type": "code",
   "execution_count": 6,
   "metadata": {},
   "outputs": [
    {
     "data": {
      "text/plain": [
       "['AFFR_tfidfvectorizer.pkl']"
      ]
     },
     "execution_count": 6,
     "metadata": {},
     "output_type": "execute_result"
    }
   ],
   "source": [
    "dump(vectorizer,\"AFFR_tfidfvectorizer.pkl\")"
   ]
  },
  {
   "cell_type": "code",
   "execution_count": 7,
   "metadata": {},
   "outputs": [
    {
     "data": {
      "text/plain": [
       "(100000, 20000)"
      ]
     },
     "execution_count": 7,
     "metadata": {},
     "output_type": "execute_result"
    }
   ],
   "source": [
    "review_vector.shape"
   ]
  },
  {
   "cell_type": "code",
   "execution_count": 8,
   "metadata": {},
   "outputs": [],
   "source": [
    "# Getting labels seperate \n",
    "y_label = data[\"rating\"]"
   ]
  },
  {
   "cell_type": "code",
   "execution_count": 9,
   "metadata": {},
   "outputs": [],
   "source": [
    "x_train, x_test, y_train, y_test = train_test_split(review_vector, y_label, test_size = 0.20)"
   ]
  },
  {
   "cell_type": "code",
   "execution_count": 10,
   "metadata": {},
   "outputs": [
    {
     "name": "stdout",
     "output_type": "stream",
     "text": [
      "Confusion matrix: \n",
      " [[ 1830  1338]\n",
      " [  144 16688]]\n",
      "Classification report: \n",
      "               precision    recall  f1-score   support\n",
      "\n",
      "           0       0.93      0.58      0.71      3168\n",
      "           1       0.93      0.99      0.96     16832\n",
      "\n",
      "    accuracy                           0.93     20000\n",
      "   macro avg       0.93      0.78      0.83     20000\n",
      "weighted avg       0.93      0.93      0.92     20000\n",
      "\n",
      "Accuracy score is:  0.9259\n",
      "Model Saving ...\n",
      "Wall time: 438 ms\n"
     ]
    }
   ],
   "source": [
    "%%time\n",
    "# Here Gaussian Naive Bayes does not taking Sparse matrix it requires dense \n",
    "NB_classifier = MultinomialNB()\n",
    "NB_classifier.fit(x_train, y_train)\n",
    "y_pred = NB_classifier.predict(x_test)\n",
    "print(\"Confusion matrix: \\n\",confusion_matrix(y_test,y_pred))\n",
    "print(\"Classification report: \\n\",classification_report(y_test,y_pred))\n",
    "print(\"Accuracy score is: \",accuracy_score(y_test,y_pred))\n",
    "print(\"Model Saving ...\")"
   ]
  },
  {
   "cell_type": "code",
   "execution_count": 11,
   "metadata": {},
   "outputs": [
    {
     "name": "stdout",
     "output_type": "stream",
     "text": [
      "Confusion matrix: \n",
      " [[ 2299   869]\n",
      " [  229 16603]]\n",
      "Classification report: \n",
      "               precision    recall  f1-score   support\n",
      "\n",
      "           0       0.91      0.73      0.81      3168\n",
      "           1       0.95      0.99      0.97     16832\n",
      "\n",
      "    accuracy                           0.95     20000\n",
      "   macro avg       0.93      0.86      0.89     20000\n",
      "weighted avg       0.94      0.95      0.94     20000\n",
      "\n",
      "Accuracy score is:  0.9451\n",
      "Model Saving ...\n",
      "Wall time: 31.5 s\n"
     ]
    }
   ],
   "source": [
    "%%time\n",
    "LR_classifier = LogisticRegression(n_jobs=-1)\n",
    "LR_classifier.fit(x_train, y_train)\n",
    "y_pred = LR_classifier.predict(x_test)\n",
    "print(\"Confusion matrix: \\n\",confusion_matrix(y_test,y_pred))\n",
    "print(\"Classification report: \\n\",classification_report(y_test,y_pred))\n",
    "print(\"Accuracy score is: \",accuracy_score(y_test,y_pred))\n",
    "print(\"Model Saving ...\")"
   ]
  },
  {
   "cell_type": "code",
   "execution_count": 12,
   "metadata": {},
   "outputs": [
    {
     "name": "stdout",
     "output_type": "stream",
     "text": [
      "Confusion matrix: \n",
      " [[  112  3056]\n",
      " [   35 16797]]\n",
      "Classification report: \n",
      "               precision    recall  f1-score   support\n",
      "\n",
      "           0       0.76      0.04      0.07      3168\n",
      "           1       0.85      1.00      0.92     16832\n",
      "\n",
      "    accuracy                           0.85     20000\n",
      "   macro avg       0.80      0.52      0.49     20000\n",
      "weighted avg       0.83      0.85      0.78     20000\n",
      "\n",
      "Accuracy score is:  0.84545\n",
      "Model Saving ...\n",
      "Wall time: 1min 31s\n"
     ]
    }
   ],
   "source": [
    "%%time\n",
    "# Here Gaussian Naive Bayes does not taking Sparse matrix it requires dense \n",
    "KNN_classifier = KNeighborsClassifier(n_jobs=-1)\n",
    "KNN_classifier.fit(x_train, y_train)\n",
    "y_pred = KNN_classifier.predict(x_test)\n",
    "print(\"Confusion matrix: \\n\",confusion_matrix(y_test,y_pred))\n",
    "print(\"Classification report: \\n\",classification_report(y_test,y_pred))\n",
    "print(\"Accuracy score is: \",accuracy_score(y_test,y_pred))\n",
    "print(\"Model Saving ...\")\n"
   ]
  },
  {
   "cell_type": "code",
   "execution_count": 13,
   "metadata": {},
   "outputs": [
    {
     "name": "stdout",
     "output_type": "stream",
     "text": [
      "Confusion matrix: \n",
      " [[ 1695  1473]\n",
      " [  143 16689]]\n",
      "Classification report: \n",
      "               precision    recall  f1-score   support\n",
      "\n",
      "           0       0.92      0.54      0.68      3168\n",
      "           1       0.92      0.99      0.95     16832\n",
      "\n",
      "    accuracy                           0.92     20000\n",
      "   macro avg       0.92      0.76      0.82     20000\n",
      "weighted avg       0.92      0.92      0.91     20000\n",
      "\n",
      "Accuracy score is:  0.9192\n",
      "Model Saving ...\n",
      "Wall time: 1min 38s\n"
     ]
    }
   ],
   "source": [
    "%%time\n",
    "# Here Gaussian Naive Bayes does not taking Sparse matrix it requires dense \n",
    "RF_classifier = RandomForestClassifier(n_jobs=-1)\n",
    "RF_classifier.fit(x_train, y_train)\n",
    "y_pred = RF_classifier.predict(x_test)\n",
    "print(\"Confusion matrix: \\n\",confusion_matrix(y_test,y_pred))\n",
    "print(\"Classification report: \\n\",classification_report(y_test,y_pred))\n",
    "print(\"Accuracy score is: \",accuracy_score(y_test,y_pred))\n",
    "print(\"Model Saving ...\")\n"
   ]
  },
  {
   "cell_type": "code",
   "execution_count": 14,
   "metadata": {},
   "outputs": [
    {
     "name": "stdout",
     "output_type": "stream",
     "text": [
      "[LibSVM]Confusion matrix: \n",
      " [[    0  3168]\n",
      " [    0 16832]]\n",
      "Classification report: \n",
      "               precision    recall  f1-score   support\n",
      "\n",
      "           0       0.00      0.00      0.00      3168\n",
      "           1       0.84      1.00      0.91     16832\n",
      "\n",
      "    accuracy                           0.84     20000\n",
      "   macro avg       0.42      0.50      0.46     20000\n",
      "weighted avg       0.71      0.84      0.77     20000\n",
      "\n",
      "Accuracy score is:  0.8416\n",
      "Model Saving ...\n",
      "Wall time: 57min 40s\n"
     ]
    },
    {
     "data": {
      "text/plain": [
       "['AFFR_tfidfSVM_model.pkl']"
      ]
     },
     "execution_count": 14,
     "metadata": {},
     "output_type": "execute_result"
    }
   ],
   "source": [
    "%%time\n",
    "svmclassifier = SVC(kernel='rbf',verbose=True,gamma=\"auto\")\n",
    "svmclassifier.fit(x_train, y_train)\n",
    "y_pred = svmclassifier.predict(x_test)\n",
    "print(\"Confusion matrix: \\n\",confusion_matrix(y_test,y_pred))\n",
    "print(\"Classification report: \\n\",classification_report(y_test,y_pred))\n",
    "print(\"Accuracy score is: \",accuracy_score(y_test,y_pred))\n",
    "print(\"Model Saving ...\")\n",
    "dump(svmclassifier,\"AFFR_tfidfSVM_model.pkl\")"
   ]
  },
  {
   "cell_type": "code",
   "execution_count": 15,
   "metadata": {},
   "outputs": [
    {
     "name": "stdout",
     "output_type": "stream",
     "text": [
      "Confusion matrix: \n",
      " [[ 1939  1229]\n",
      " [ 1176 15656]]\n",
      "Classification report: \n",
      "               precision    recall  f1-score   support\n",
      "\n",
      "           0       0.62      0.61      0.62      3168\n",
      "           1       0.93      0.93      0.93     16832\n",
      "\n",
      "    accuracy                           0.88     20000\n",
      "   macro avg       0.77      0.77      0.77     20000\n",
      "weighted avg       0.88      0.88      0.88     20000\n",
      "\n",
      "Accuracy score is:  0.87975\n",
      "Model Saving ...\n",
      "Wall time: 6min 32s\n"
     ]
    }
   ],
   "source": [
    "%%time\n",
    "DT_classifier = DecisionTreeClassifier()\n",
    "DT_classifier.fit(x_train, y_train)\n",
    "y_pred = DT_classifier.predict(x_test)\n",
    "print(\"Confusion matrix: \\n\",confusion_matrix(y_test,y_pred))\n",
    "print(\"Classification report: \\n\",classification_report(y_test,y_pred))\n",
    "print(\"Accuracy score is: \",accuracy_score(y_test,y_pred))\n",
    "print(\"Model Saving ...\")"
   ]
  },
  {
   "cell_type": "code",
   "execution_count": null,
   "metadata": {},
   "outputs": [],
   "source": []
  }
 ],
 "metadata": {
  "kernelspec": {
   "display_name": "Python 3",
   "language": "python",
   "name": "python3"
  },
  "language_info": {
   "codemirror_mode": {
    "name": "ipython",
    "version": 3
   },
   "file_extension": ".py",
   "mimetype": "text/x-python",
   "name": "python",
   "nbconvert_exporter": "python",
   "pygments_lexer": "ipython3",
   "version": "3.8.5"
  }
 },
 "nbformat": 4,
 "nbformat_minor": 4
}
