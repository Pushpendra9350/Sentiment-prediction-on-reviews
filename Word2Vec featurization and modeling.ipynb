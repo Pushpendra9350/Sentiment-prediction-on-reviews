{
 "cells": [
  {
   "cell_type": "markdown",
   "metadata": {},
   "source": [
    "# Word2Vec featurization and modeling"
   ]
  },
  {
   "cell_type": "code",
   "execution_count": 54,
   "metadata": {},
   "outputs": [],
   "source": [
    "import pandas as pd\n",
    "import numpy as np\n",
    "import re\n",
    "from tqdm import tqdm\n",
    "import warnings\n",
    "from sklearn.feature_extraction.text import CountVectorizer\n",
    "from sklearn.metrics import accuracy_score, confusion_matrix, classification_report\n",
    "from sklearn.naive_bayes import MultinomialNB\n",
    "from sklearn.svm import SVC\n",
    "from sklearn.linear_model import LogisticRegression\n",
    "from sklearn.tree import DecisionTreeClassifier\n",
    "from sklearn.ensemble import RandomForestClassifier\n",
    "from sklearn.neighbors import KNeighborsClassifier\n",
    "from joblib import dump\n",
    "from sklearn.model_selection import train_test_split\n",
    "warnings.filterwarnings(\"ignore\")"
   ]
  },
  {
   "cell_type": "code",
   "execution_count": 23,
   "metadata": {},
   "outputs": [],
   "source": [
    "data = pd.read_csv(\"AFFR_preprocessed_100k.csv\")"
   ]
  },
  {
   "cell_type": "code",
   "execution_count": 24,
   "metadata": {},
   "outputs": [
    {
     "data": {
      "text/html": [
       "<div>\n",
       "<style scoped>\n",
       "    .dataframe tbody tr th:only-of-type {\n",
       "        vertical-align: middle;\n",
       "    }\n",
       "\n",
       "    .dataframe tbody tr th {\n",
       "        vertical-align: top;\n",
       "    }\n",
       "\n",
       "    .dataframe thead th {\n",
       "        text-align: right;\n",
       "    }\n",
       "</style>\n",
       "<table border=\"1\" class=\"dataframe\">\n",
       "  <thead>\n",
       "    <tr style=\"text-align: right;\">\n",
       "      <th></th>\n",
       "      <th>Reviews</th>\n",
       "      <th>rating</th>\n",
       "    </tr>\n",
       "  </thead>\n",
       "  <tbody>\n",
       "    <tr>\n",
       "      <th>99997</th>\n",
       "      <td>celestial chia tea celestial chia tea tea real...</td>\n",
       "      <td>1</td>\n",
       "    </tr>\n",
       "    <tr>\n",
       "      <th>99998</th>\n",
       "      <td>miracle fruit tablets miracle fruit tablets se...</td>\n",
       "      <td>1</td>\n",
       "    </tr>\n",
       "    <tr>\n",
       "      <th>99999</th>\n",
       "      <td>not taste like lipton yellow label tea sold it...</td>\n",
       "      <td>0</td>\n",
       "    </tr>\n",
       "  </tbody>\n",
       "</table>\n",
       "</div>"
      ],
      "text/plain": [
       "                                                 Reviews  rating\n",
       "99997  celestial chia tea celestial chia tea tea real...       1\n",
       "99998  miracle fruit tablets miracle fruit tablets se...       1\n",
       "99999  not taste like lipton yellow label tea sold it...       0"
      ]
     },
     "execution_count": 24,
     "metadata": {},
     "output_type": "execute_result"
    }
   ],
   "source": [
    "data.tail(3)"
   ]
  },
  {
   "cell_type": "code",
   "execution_count": 27,
   "metadata": {},
   "outputs": [],
   "source": [
    "reviews = data[\"Reviews\"].to_list()"
   ]
  },
  {
   "cell_type": "code",
   "execution_count": 33,
   "metadata": {},
   "outputs": [],
   "source": [
    "# This is to tokenize each row \n",
    "import nltk\n",
    "review_tokens=[]\n",
    "for i in reviews:\n",
    "    nltk_tokens = nltk.word_tokenize(str(i))\n",
    "    review_tokens.append(nltk_tokens)"
   ]
  },
  {
   "cell_type": "code",
   "execution_count": 36,
   "metadata": {},
   "outputs": [],
   "source": [
    "# To train own Word2Vec model we can used pretrained models also which are very good  \n",
    "# vector_size is the size of vector for each word \n",
    "# Min_count means if any word with 2 counts occurs then this will consider that word\n",
    "#\n",
    "import gensim\n",
    "model = gensim.models.Word2Vec(review_tokens, vector_size=100,min_count=2,window=10,workers=4)"
   ]
  },
  {
   "cell_type": "code",
   "execution_count": 40,
   "metadata": {},
   "outputs": [
    {
     "data": {
      "text/plain": [
       "[('horrible', 0.8505693674087524),\n",
       " ('awful', 0.8473909497261047),\n",
       " ('disgusting', 0.7512609362602234),\n",
       " ('horrid', 0.6952306628227234),\n",
       " ('nasty', 0.6607276201248169),\n",
       " ('yuck', 0.6557612419128418),\n",
       " ('ugh', 0.6451859474182129),\n",
       " ('aweful', 0.6308556199073792),\n",
       " ('gross', 0.6239864230155945),\n",
       " ('inedible', 0.6189229488372803)]"
      ]
     },
     "execution_count": 40,
     "metadata": {},
     "output_type": "execute_result"
    }
   ],
   "source": [
    "# Lets Test our model \n",
    "model.wv.most_similar('terrible')"
   ]
  },
  {
   "cell_type": "code",
   "execution_count": 48,
   "metadata": {},
   "outputs": [
    {
     "name": "stderr",
     "output_type": "stream",
     "text": [
      "100%|█████████████████████████████████████████████████████████████████████████| 100000/100000 [09:45<00:00, 170.80it/s]"
     ]
    },
    {
     "name": "stdout",
     "output_type": "stream",
     "text": [
      "100000\n",
      "100\n"
     ]
    },
    {
     "name": "stderr",
     "output_type": "stream",
     "text": [
      "\n"
     ]
    }
   ],
   "source": [
    "w2v_words = list(model.wv.key_to_index)\n",
    "sent_vectors = []; \n",
    "for sent in tqdm(review_tokens):\n",
    "    sent_vec = np.zeros(100) \n",
    "    cnt_words =0;\n",
    "    for word in sent: \n",
    "        if word in w2v_words:\n",
    "            vec = model.wv[word]\n",
    "            sent_vec += vec\n",
    "            cnt_words += 1\n",
    "    if cnt_words != 0:\n",
    "        sent_vec /= cnt_words\n",
    "    sent_vectors.append(sent_vec)\n",
    "print(len(sent_vectors))\n",
    "print(len(sent_vectors[0]))"
   ]
  },
  {
   "cell_type": "code",
   "execution_count": 52,
   "metadata": {},
   "outputs": [],
   "source": [
    "y_label = data[\"rating\"]"
   ]
  },
  {
   "cell_type": "code",
   "execution_count": 56,
   "metadata": {},
   "outputs": [],
   "source": [
    "x_train, x_test, y_train, y_test = train_test_split(sent_vectors, y_label, test_size = 0.20)"
   ]
  },
  {
   "cell_type": "code",
   "execution_count": 61,
   "metadata": {},
   "outputs": [
    {
     "name": "stdout",
     "output_type": "stream",
     "text": [
      "Confusion matrix: \n",
      " [[ 2249   954]\n",
      " [  460 16337]]\n",
      "Classification report: \n",
      "               precision    recall  f1-score   support\n",
      "\n",
      "           0       0.83      0.70      0.76      3203\n",
      "           1       0.94      0.97      0.96     16797\n",
      "\n",
      "    accuracy                           0.93     20000\n",
      "   macro avg       0.89      0.84      0.86     20000\n",
      "weighted avg       0.93      0.93      0.93     20000\n",
      "\n",
      "Accuracy score is:  0.9293\n",
      "Model Saving ...\n",
      "Wall time: 47.3 s\n"
     ]
    },
    {
     "data": {
      "text/plain": [
       "['AFFR_LR_model.pkl']"
      ]
     },
     "execution_count": 61,
     "metadata": {},
     "output_type": "execute_result"
    }
   ],
   "source": [
    "%%time\n",
    "LR_classifier = LogisticRegression(n_jobs=-1)\n",
    "LR_classifier.fit(x_train, y_train)\n",
    "y_pred = LR_classifier.predict(x_test)\n",
    "print(\"Confusion matrix: \\n\",confusion_matrix(y_test,y_pred))\n",
    "print(\"Classification report: \\n\",classification_report(y_test,y_pred))\n",
    "print(\"Accuracy score is: \",accuracy_score(y_test,y_pred))\n",
    "print(\"Model Saving ...\")"
   ]
  },
  {
   "cell_type": "code",
   "execution_count": 62,
   "metadata": {},
   "outputs": [
    {
     "name": "stdout",
     "output_type": "stream",
     "text": [
      "Confusion matrix: \n",
      " [[ 1751  1452]\n",
      " [  414 16383]]\n",
      "Classification report: \n",
      "               precision    recall  f1-score   support\n",
      "\n",
      "           0       0.81      0.55      0.65      3203\n",
      "           1       0.92      0.98      0.95     16797\n",
      "\n",
      "    accuracy                           0.91     20000\n",
      "   macro avg       0.86      0.76      0.80     20000\n",
      "weighted avg       0.90      0.91      0.90     20000\n",
      "\n",
      "Accuracy score is:  0.9067\n",
      "Model Saving ...\n",
      "Wall time: 6min 10s\n"
     ]
    }
   ],
   "source": [
    "%%time\n",
    "# Here Gaussian Naive Bayes does not taking Sparse matrix it requires dense \n",
    "KNN_classifier = KNeighborsClassifier(n_jobs=-1)\n",
    "KNN_classifier.fit(x_train, y_train)\n",
    "y_pred = KNN_classifier.predict(x_test)\n",
    "print(\"Confusion matrix: \\n\",confusion_matrix(y_test,y_pred))\n",
    "print(\"Classification report: \\n\",classification_report(y_test,y_pred))\n",
    "print(\"Accuracy score is: \",accuracy_score(y_test,y_pred))\n",
    "print(\"Model Saving ...\")"
   ]
  },
  {
   "cell_type": "code",
   "execution_count": 63,
   "metadata": {},
   "outputs": [
    {
     "name": "stdout",
     "output_type": "stream",
     "text": [
      "Confusion matrix: \n",
      " [[ 1695  1508]\n",
      " [  251 16546]]\n",
      "Classification report: \n",
      "               precision    recall  f1-score   support\n",
      "\n",
      "           0       0.87      0.53      0.66      3203\n",
      "           1       0.92      0.99      0.95     16797\n",
      "\n",
      "    accuracy                           0.91     20000\n",
      "   macro avg       0.89      0.76      0.80     20000\n",
      "weighted avg       0.91      0.91      0.90     20000\n",
      "\n",
      "Accuracy score is:  0.91205\n",
      "Model Saving ...\n",
      "Wall time: 1min 32s\n"
     ]
    }
   ],
   "source": [
    "%%time\n",
    "# Here Gaussian Naive Bayes does not taking Sparse matrix it requires dense \n",
    "RF_classifier = RandomForestClassifier(n_jobs=-1)\n",
    "RF_classifier.fit(x_train, y_train)\n",
    "y_pred = RF_classifier.predict(x_test)\n",
    "print(\"Confusion matrix: \\n\",confusion_matrix(y_test,y_pred))\n",
    "print(\"Classification report: \\n\",classification_report(y_test,y_pred))\n",
    "print(\"Accuracy score is: \",accuracy_score(y_test,y_pred))\n",
    "print(\"Model Saving ...\")"
   ]
  },
  {
   "cell_type": "code",
   "execution_count": 64,
   "metadata": {},
   "outputs": [
    {
     "name": "stdout",
     "output_type": "stream",
     "text": [
      "Confusion matrix: \n",
      " [[ 1813  1390]\n",
      " [ 1479 15318]]\n",
      "Classification report: \n",
      "               precision    recall  f1-score   support\n",
      "\n",
      "           0       0.55      0.57      0.56      3203\n",
      "           1       0.92      0.91      0.91     16797\n",
      "\n",
      "    accuracy                           0.86     20000\n",
      "   macro avg       0.73      0.74      0.74     20000\n",
      "weighted avg       0.86      0.86      0.86     20000\n",
      "\n",
      "Accuracy score is:  0.85655\n",
      "Model Saving ...\n",
      "Wall time: 43.1 s\n"
     ]
    },
    {
     "data": {
      "text/plain": [
       "['AFFR_DT_model.pkl']"
      ]
     },
     "execution_count": 64,
     "metadata": {},
     "output_type": "execute_result"
    }
   ],
   "source": [
    "%%time\n",
    "DT_classifier = DecisionTreeClassifier()\n",
    "DT_classifier.fit(x_train, y_train)\n",
    "y_pred = DT_classifier.predict(x_test)\n",
    "print(\"Confusion matrix: \\n\",confusion_matrix(y_test,y_pred))\n",
    "print(\"Classification report: \\n\",classification_report(y_test,y_pred))\n",
    "print(\"Accuracy score is: \",accuracy_score(y_test,y_pred))\n",
    "print(\"Model Saving ...\")"
   ]
  },
  {
   "cell_type": "code",
   "execution_count": 65,
   "metadata": {},
   "outputs": [
    {
     "name": "stdout",
     "output_type": "stream",
     "text": [
      "[LibSVM]Confusion matrix: \n",
      " [[ 2278   925]\n",
      " [  379 16418]]\n",
      "Classification report: \n",
      "               precision    recall  f1-score   support\n",
      "\n",
      "           0       0.86      0.71      0.78      3203\n",
      "           1       0.95      0.98      0.96     16797\n",
      "\n",
      "    accuracy                           0.93     20000\n",
      "   macro avg       0.90      0.84      0.87     20000\n",
      "weighted avg       0.93      0.93      0.93     20000\n",
      "\n",
      "Accuracy score is:  0.9348\n",
      "Model Saving ...\n",
      "Wall time: 10min 22s\n"
     ]
    },
    {
     "data": {
      "text/plain": [
       "['AFFR_tfidfSVM_model.pkl']"
      ]
     },
     "execution_count": 65,
     "metadata": {},
     "output_type": "execute_result"
    }
   ],
   "source": [
    "%%time\n",
    "svmclassifier = SVC(kernel='rbf',verbose=True,gamma=\"auto\")\n",
    "svmclassifier.fit(x_train, y_train)\n",
    "y_pred = svmclassifier.predict(x_test)\n",
    "print(\"Confusion matrix: \\n\",confusion_matrix(y_test,y_pred))\n",
    "print(\"Classification report: \\n\",classification_report(y_test,y_pred))\n",
    "print(\"Accuracy score is: \",accuracy_score(y_test,y_pred))\n",
    "print(\"Model Saving ...\")"
   ]
  },
  {
   "cell_type": "code",
   "execution_count": null,
   "metadata": {},
   "outputs": [],
   "source": []
  }
 ],
 "metadata": {
  "kernelspec": {
   "display_name": "Python 3",
   "language": "python",
   "name": "python3"
  },
  "language_info": {
   "codemirror_mode": {
    "name": "ipython",
    "version": 3
   },
   "file_extension": ".py",
   "mimetype": "text/x-python",
   "name": "python",
   "nbconvert_exporter": "python",
   "pygments_lexer": "ipython3",
   "version": "3.8.5"
  }
 },
 "nbformat": 4,
 "nbformat_minor": 4
}
